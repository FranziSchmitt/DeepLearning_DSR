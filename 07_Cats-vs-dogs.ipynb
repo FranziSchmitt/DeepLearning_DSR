{
 "cells": [
  {
   "cell_type": "code",
   "execution_count": 1,
   "metadata": {},
   "outputs": [
    {
     "name": "stdout",
     "output_type": "stream",
     "text": [
      "cats_vs_dogs_small : 3\n",
      "cats_vs_dogs_small/train : 2\n",
      "cats_vs_dogs_small/validation : 2\n",
      "cats_vs_dogs_small/test : 2\n",
      "cats_vs_dogs_small/train/cats : 1000\n",
      "cats_vs_dogs_small/train/dogs : 1000\n",
      "cats_vs_dogs_small/validation/cats : 500\n",
      "cats_vs_dogs_small/validation/dogs : 500\n",
      "cats_vs_dogs_small/test/cats : 500\n",
      "cats_vs_dogs_small/test/dogs : 500\n",
      "Done.\n"
     ]
    }
   ],
   "source": [
    "import os, shutil\n",
    "\n",
    "original_dataset_dir = \"cats_vs_dogs/train\"\n",
    "\n",
    "dirs = []\n",
    "\n",
    "base_dir = \"cats_vs_dogs_small\"\n",
    "dirs.append(base_dir)\n",
    "\n",
    "train_dir = os.path.join(base_dir, \"train\")\n",
    "dirs.append(train_dir)\n",
    "validation_dir = os.path.join(base_dir, \"validation\")\n",
    "dirs.append(validation_dir)\n",
    "test_dir = os.path.join(base_dir, \"test\")\n",
    "dirs.append(test_dir)\n",
    "\n",
    "train_cats_dir = os.path.join(train_dir, \"cats\")\n",
    "dirs.append(train_cats_dir)\n",
    "train_dogs_dir = os.path.join(train_dir, \"dogs\")\n",
    "dirs.append(train_dogs_dir)\n",
    "\n",
    "validation_cats_dir = os.path.join(validation_dir, \"cats\")\n",
    "dirs.append(validation_cats_dir)\n",
    "validation_dogs_dir = os.path.join(validation_dir, \"dogs\")\n",
    "dirs.append(validation_dogs_dir)\n",
    "\n",
    "test_cats_dir = os.path.join(test_dir, \"cats\")\n",
    "dirs.append(test_cats_dir)\n",
    "test_dogs_dir = os.path.join(test_dir, \"dogs\")\n",
    "dirs.append(test_dogs_dir)\n",
    "\n",
    "for directory in dirs:\n",
    "    if not os.path.exists(directory):\n",
    "       os.mkdir(directory)\n",
    "    \n",
    "fnames = [\"cat.{}.jpg\".format(i) for i in range(1000)]\n",
    "for fname in fnames:\n",
    "    src = os.path.join(original_dataset_dir, fname)\n",
    "    dest = os.path.join(train_cats_dir, fname)\n",
    "    shutil.copy(src, dest)\n",
    "\n",
    "fnames = [\"cat.{}.jpg\".format(i) for i in range(1000, 1500)]\n",
    "for fname in fnames:\n",
    "    src = os.path.join(original_dataset_dir, fname)\n",
    "    dest = os.path.join(validation_cats_dir, fname)\n",
    "    shutil.copy(src, dest)\n",
    "\n",
    "fnames = [\"cat.{}.jpg\".format(i) for i in range(1500, 2000)]\n",
    "for fname in fnames:\n",
    "    src = os.path.join(original_dataset_dir, fname)\n",
    "    dest = os.path.join(test_cats_dir, fname)\n",
    "    shutil.copy(src, dest)\n",
    "\n",
    "fnames = [\"dog.{}.jpg\".format(i) for i in range(1000)]\n",
    "for fname in fnames:\n",
    "    src = os.path.join(original_dataset_dir, fname)\n",
    "    dest = os.path.join(train_dogs_dir, fname)\n",
    "    shutil.copy(src, dest)\n",
    "\n",
    "fnames = [\"dog.{}.jpg\".format(i) for i in range(1000, 1500)]\n",
    "for fname in fnames:\n",
    "    src = os.path.join(original_dataset_dir, fname)\n",
    "    dest = os.path.join(validation_dogs_dir, fname)\n",
    "    shutil.copy(src, dest)\n",
    "\n",
    "fnames = [\"dog.{}.jpg\".format(i) for i in range(1500, 2000)]\n",
    "for fname in fnames:\n",
    "    src = os.path.join(original_dataset_dir, fname)\n",
    "    dest = os.path.join(test_dogs_dir, fname)\n",
    "    shutil.copy(src, dest)\n",
    "\n",
    "for directory in dirs:\n",
    "    print(directory, \":\", len(os.listdir(directory)))\n",
    "    \n",
    "print(\"Done.\")"
   ]
  },
  {
   "cell_type": "code",
   "execution_count": 10,
   "metadata": {},
   "outputs": [],
   "source": [
    "import matplotlib.pyplot as plt"
   ]
  },
  {
   "cell_type": "code",
   "execution_count": 2,
   "metadata": {},
   "outputs": [
    {
     "name": "stderr",
     "output_type": "stream",
     "text": [
      "/home/franzi/anaconda3/lib/python3.6/site-packages/h5py/__init__.py:36: FutureWarning: Conversion of the second argument of issubdtype from `float` to `np.floating` is deprecated. In future, it will be treated as `np.float64 == np.dtype(float).type`.\n",
      "  from ._conv import register_converters as _register_converters\n",
      "Using TensorFlow backend.\n"
     ]
    }
   ],
   "source": [
    "from keras import models\n",
    "from keras import layers\n",
    "from keras import optimizers\n",
    "\n",
    "\n",
    "model = models.Sequential()\n",
    "model.add(layers.Conv2D(\n",
    "    32, (3, 3), \n",
    "    activation=\"relu\", \n",
    "    input_shape=(150, 150, 3)))\n",
    "model.add(layers.MaxPooling2D((2, 2)))\n",
    "model.add(layers.Conv2D(64, (3, 3), activation=\"relu\"))\n",
    "model.add(layers.MaxPooling2D((2, 2)))\n",
    "model.add(layers.Conv2D(128, (3, 3), activation=\"relu\"))\n",
    "model.add(layers.MaxPooling2D((2, 2)))\n",
    "model.add(layers.Conv2D(128, (3, 3), activation=\"relu\"))\n",
    "model.add(layers.MaxPooling2D((2, 2)))\n",
    "model.add(layers.Flatten())\n",
    "model.add(layers.Dense(512, activation=\"relu\"))\n",
    "model.add(layers.Dense(1, activation=\"sigmoid\"))\n",
    "\n",
    "#model.summary()\n",
    "\n",
    "model.compile(optimizer=optimizers.RMSprop(lr=1e-4), loss='binary_crossentropy', metrics=['acc'])"
   ]
  },
  {
   "cell_type": "code",
   "execution_count": 3,
   "metadata": {},
   "outputs": [
    {
     "name": "stdout",
     "output_type": "stream",
     "text": [
      "Found 2000 images belonging to 2 classes.\n",
      "Found 1000 images belonging to 2 classes.\n"
     ]
    }
   ],
   "source": [
    "from keras.preprocessing.image import ImageDataGenerator\n",
    "\n",
    "train_datagen = ImageDataGenerator(rescale=1./255)\n",
    "validation_datagen = ImageDataGenerator(rescale=1./255)\n",
    "\n",
    "train_generator = train_datagen.flow_from_directory(train_dir, \n",
    "                                                    target_size=(150, 150), \n",
    "                                                    batch_size=20, \n",
    "                                                    class_mode='binary')\n",
    "validation_generator = validation_datagen.flow_from_directory(validation_dir, \n",
    "                                                             target_size=(150, 150),\n",
    "                                                             batch_size=20,\n",
    "                                                             class_mode='binary')\n"
   ]
  },
  {
   "cell_type": "code",
   "execution_count": 4,
   "metadata": {},
   "outputs": [
    {
     "name": "stdout",
     "output_type": "stream",
     "text": [
      "Epoch 1/30\n",
      "100/100 [==============================] - 110s 1s/step - loss: 0.6942 - acc: 0.5345 - val_loss: 0.6850 - val_acc: 0.5020\n",
      "Epoch 2/30\n",
      "100/100 [==============================] - 106s 1s/step - loss: 0.6677 - acc: 0.5975 - val_loss: 0.6493 - val_acc: 0.6420\n",
      "Epoch 3/30\n",
      "100/100 [==============================] - 108s 1s/step - loss: 0.6312 - acc: 0.6510 - val_loss: 0.6185 - val_acc: 0.6640\n",
      "Epoch 4/30\n",
      "100/100 [==============================] - 110s 1s/step - loss: 0.5812 - acc: 0.7045 - val_loss: 0.6103 - val_acc: 0.6680\n",
      "Epoch 5/30\n",
      "100/100 [==============================] - 111s 1s/step - loss: 0.5478 - acc: 0.7185 - val_loss: 0.6037 - val_acc: 0.6800\n",
      "Epoch 6/30\n",
      "100/100 [==============================] - 112s 1s/step - loss: 0.5144 - acc: 0.7390 - val_loss: 0.5727 - val_acc: 0.7010\n",
      "Epoch 7/30\n",
      "100/100 [==============================] - 113s 1s/step - loss: 0.4834 - acc: 0.7705 - val_loss: 0.5768 - val_acc: 0.6900\n",
      "Epoch 8/30\n",
      "100/100 [==============================] - 114s 1s/step - loss: 0.4428 - acc: 0.7940 - val_loss: 0.5761 - val_acc: 0.6960\n",
      "Epoch 9/30\n",
      "100/100 [==============================] - 113s 1s/step - loss: 0.4230 - acc: 0.7995 - val_loss: 0.5882 - val_acc: 0.6990\n",
      "Epoch 10/30\n",
      "100/100 [==============================] - 114s 1s/step - loss: 0.3953 - acc: 0.8195 - val_loss: 0.5729 - val_acc: 0.7060\n",
      "Epoch 11/30\n",
      "100/100 [==============================] - 114s 1s/step - loss: 0.3617 - acc: 0.8415 - val_loss: 0.8059 - val_acc: 0.6510\n",
      "Epoch 12/30\n",
      "100/100 [==============================] - 115s 1s/step - loss: 0.3450 - acc: 0.8490 - val_loss: 0.5545 - val_acc: 0.7250\n",
      "Epoch 13/30\n",
      "100/100 [==============================] - 115s 1s/step - loss: 0.3165 - acc: 0.8705 - val_loss: 0.6454 - val_acc: 0.7130\n",
      "Epoch 14/30\n",
      "100/100 [==============================] - 116s 1s/step - loss: 0.2858 - acc: 0.8805 - val_loss: 0.6652 - val_acc: 0.6960\n",
      "Epoch 15/30\n",
      "100/100 [==============================] - 117s 1s/step - loss: 0.2579 - acc: 0.8960 - val_loss: 0.6596 - val_acc: 0.7050\n",
      "Epoch 16/30\n",
      "100/100 [==============================] - 117s 1s/step - loss: 0.2455 - acc: 0.9010 - val_loss: 0.6801 - val_acc: 0.7220\n",
      "Epoch 17/30\n",
      "100/100 [==============================] - 118s 1s/step - loss: 0.2190 - acc: 0.9110 - val_loss: 0.6316 - val_acc: 0.7270\n",
      "Epoch 18/30\n",
      "100/100 [==============================] - 117s 1s/step - loss: 0.1875 - acc: 0.9305 - val_loss: 0.7274 - val_acc: 0.6990\n",
      "Epoch 19/30\n",
      "100/100 [==============================] - 117s 1s/step - loss: 0.1656 - acc: 0.9465 - val_loss: 0.7064 - val_acc: 0.7250\n",
      "Epoch 20/30\n",
      "100/100 [==============================] - 118s 1s/step - loss: 0.1503 - acc: 0.9505 - val_loss: 0.7780 - val_acc: 0.7100\n",
      "Epoch 21/30\n",
      "100/100 [==============================] - 118s 1s/step - loss: 0.1256 - acc: 0.9570 - val_loss: 1.1114 - val_acc: 0.6580\n",
      "Epoch 22/30\n",
      "100/100 [==============================] - 118s 1s/step - loss: 0.1211 - acc: 0.9610 - val_loss: 0.8541 - val_acc: 0.7050\n",
      "Epoch 23/30\n",
      "100/100 [==============================] - 117s 1s/step - loss: 0.0907 - acc: 0.9700 - val_loss: 0.9094 - val_acc: 0.6890\n",
      "Epoch 24/30\n",
      "100/100 [==============================] - 118s 1s/step - loss: 0.0825 - acc: 0.9730 - val_loss: 0.8956 - val_acc: 0.7160\n",
      "Epoch 25/30\n",
      "100/100 [==============================] - 117s 1s/step - loss: 0.0687 - acc: 0.9790 - val_loss: 1.0214 - val_acc: 0.7210\n",
      "Epoch 26/30\n",
      "100/100 [==============================] - 117s 1s/step - loss: 0.0572 - acc: 0.9825 - val_loss: 1.1456 - val_acc: 0.7200\n",
      "Epoch 27/30\n",
      "100/100 [==============================] - 119s 1s/step - loss: 0.0578 - acc: 0.9825 - val_loss: 1.3533 - val_acc: 0.6690\n",
      "Epoch 28/30\n",
      "100/100 [==============================] - 118s 1s/step - loss: 0.0404 - acc: 0.9880 - val_loss: 1.2617 - val_acc: 0.6790\n",
      "Epoch 29/30\n",
      "100/100 [==============================] - 118s 1s/step - loss: 0.0353 - acc: 0.9885 - val_loss: 1.1531 - val_acc: 0.7250\n",
      "Epoch 30/30\n",
      "100/100 [==============================] - 118s 1s/step - loss: 0.0344 - acc: 0.9895 - val_loss: 1.2730 - val_acc: 0.7170\n"
     ]
    }
   ],
   "source": [
    "history = model.fit_generator(train_generator, \n",
    "                             steps_per_epoch=100,\n",
    "                             epochs=30,\n",
    "                             validation_data=validation_generator,\n",
    "                             validation_steps=50)"
   ]
  },
  {
   "cell_type": "code",
   "execution_count": 11,
   "metadata": {},
   "outputs": [
    {
     "data": {
      "image/png": "[encoded data removed]",
      "text/plain": [
       "<Figure size 432x288 with 1 Axes>"
      ]
     },
     "metadata": {},
     "output_type": "display_data"
    },
    {
     "data": {
      "image/png": "[encoded data removed]",
      "text/plain": [
       "<Figure size 432x288 with 1 Axes>"
      ]
     },
     "metadata": {},
     "output_type": "display_data"
    }
   ],
   "source": [
    "def plot_history(history):\n",
    "    plt.plot(history['acc'], label='acc')\n",
    "    plt.plot(history['val_acc'], label='val_acc')\n",
    "    plt.legend()\n",
    "    plt.show()\n",
    "    plt.close()\n",
    "    \n",
    "    plt.plot(history['loss'], label='loss')\n",
    "    plt.plot(history['val_loss'], label='val_loss')\n",
    "    plt.legend()\n",
    "    plt.show()\n",
    "    plt.close()\n",
    "    \n",
    "plot_history(history.history)"
   ]
  },
  {
   "cell_type": "code",
   "execution_count": null,
   "metadata": {},
   "outputs": [],
   "source": []
  },
  {
   "cell_type": "code",
   "execution_count": null,
   "metadata": {},
   "outputs": [],
   "source": []
  }
 ],
 "metadata": {
  "kernelspec": {
   "display_name": "Python 3",
   "language": "python",
   "name": "python3"
  },
  "language_info": {
   "codemirror_mode": {
    "name": "ipython",
    "version": 3
   },
   "file_extension": ".py",
   "mimetype": "text/x-python",
   "name": "python",
   "nbconvert_exporter": "python",
   "pygments_lexer": "ipython3",
   "version": "3.6.5"
  }
 },
 "nbformat": 4,
 "nbformat_minor": 2
}
